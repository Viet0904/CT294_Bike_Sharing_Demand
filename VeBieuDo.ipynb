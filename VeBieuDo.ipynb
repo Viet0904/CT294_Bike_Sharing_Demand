{
 "cells": [
  {
   "cell_type": "markdown",
   "metadata": {},
   "source": [
    "Thêm các thư viện cần thiết"
   ]
  },
  {
   "cell_type": "code",
   "execution_count": null,
   "metadata": {},
   "outputs": [],
   "source": [
    "import warnings\n",
    "\n",
    "warnings.filterwarnings(\"always\")\n",
    "warnings.filterwarnings(\"ignore\")\n",
    "import numpy as np\n",
    "import pandas as pd\n",
    "import matplotlib.pyplot as plt\n",
    "import seaborn as sns\n",
    "sns.set()"
   ]
  },
  {
   "cell_type": "markdown",
   "metadata": {},
   "source": [
    "Load data từ BikeSharingDemand"
   ]
  },
  {
   "cell_type": "code",
   "execution_count": null,
   "metadata": {},
   "outputs": [],
   "source": [
    "# Đọc dữ liệu \n",
    "dt = pd.read_csv(\"BikeSharingDemand.csv\")\n",
    "print ( \"Hiển thị 5 dòng đầu của tập data\\n \", dt.head())\n",
    "print ( \"Xem kiểu dữ liệu của từng thuộc tính \", dt.dtypes)\n",
    "print ( \"Xem thông tin của dữ liệu \", dt.info())\n",
    "print ( \"Kiểm tra giá trị thiếu\\n\",dt.isnull().sum())"
   ]
  },
  {
   "cell_type": "markdown",
   "metadata": {},
   "source": [
    "Chú thích cho tập dữ liệu  <br>\n",
    "datetime: cho biết thời gian theo dịnh dạng \"%m/%d/%Y %H:%M:%hS  <br> \n",
    "season: cho biết mùa  <br> \n",
    "1: mùa xuân  <br>\n",
    "2: mùa hè  <br>\n",
    "3: mùa thu  <br>\n",
    "4: mùa đông  <br>\n",
    "workingday: cho biết có phải là ngày làm việc không bao gồm cả cuối tuần và ngày lễ  <br> \n",
    "1: ngày làm việc  \n",
    "0: ngày không làm việc \n",
    "weather: Cho biết thời tiết  <br>\n",
    "1: Trời trong, có mây, có mây rải rác  <br>\n",
    "2: Sương mù + Đầy mây, sương mù + ít mây, sương mù  <br>\n",
    "3: Tuyết nhẹ, mưa nhẹ + sấm sét + mây rải rác, mưa nhẹ + mây rải rác  <br>\n",
    "4: Mưa lớn + mảnh băng + sấm sét + sương mù, tuyết + sương mù  <br>\n",
    "temp: Nhiệt độ thực tế tính theo độ Celsius (độ C)  <br>\n",
    "atemp: Nhiệt độ mà con người cảm thấy tính theo độ Celsius (độ C) <br>\n",
    "humidity: Độ ẩm tương đối <br>\n",
    "windspeed: Tốc độ gió <br>\n",
    "casual: Số lượng xe thuê mà không có đăng ký dịch vụ <br>\n",
    "registered: Số lượng xe thuê mà có đăng ký dịch vụ <br>\n",
    "count: Tổng số lượng xe được thuê <br>"
   ]
  },
  {
   "cell_type": "markdown",
   "metadata": {},
   "source": [
    "Xử lý data"
   ]
  },
  {
   "cell_type": "code",
   "execution_count": null,
   "metadata": {},
   "outputs": [],
   "source": [
    "# tạo cột year, month, day, hour,weekday từ cột datetime\n",
    "dt[\"datetime\"] = pd.to_datetime(dt[\"datetime\"])\n",
    "dt[\"year\"] = dt[\"datetime\"].dt.year\n",
    "dt[\"month\"] = dt[\"datetime\"].dt.month\n",
    "dt[\"weekday\"] = dt[\"datetime\"].dt.weekday\n",
    "dt[\"hour\"] = dt[\"datetime\"].dt.hour\n",
    "print(\" Hiển thị 5 dòng đầu của tập data\\n\",  dt.head())\n",
    "print(\" Xem kiểu dữ liệu của từng thuộc tính\",  dt.dtypes)\n",
    "print(\" Xem thông tin của dữ liệu\",  dt.info())\n",
    "print(\" Kiểm tra giá trị thiếu\", dt.isnull().sum())"
   ]
  },
  {
   "cell_type": "markdown",
   "metadata": {},
   "source": [
    "Chú thích các thuộc tính mới  <br>\n",
    "month: tháng (1-12)  <br>\n",
    "year: năm (2011, 2012)  <br>\n",
    "hour: giờ trong ngày (0-23 giờ)  <br>\n",
    "weekday: ngày trong tuần  <br> \n",
    "0: thứ 2  <br>\n",
    "1: thứ 3  <br>\n",
    "2: thứ 4  <br>\n",
    "3: thứ 5  <br>\n",
    "4: thứ 6  <br>\n",
    "5: thứ 7  <br>\n",
    "6: chủ nhật  <br>"
   ]
  },
  {
   "cell_type": "markdown",
   "metadata": {},
   "source": [
    "Vẽ biểu đồ phân phối thuộc tính season"
   ]
  },
  {
   "cell_type": "code",
   "execution_count": null,
   "metadata": {},
   "outputs": [],
   "source": []
  }
 ],
 "metadata": {
  "kernelspec": {
   "display_name": "Python 3",
   "language": "python",
   "name": "python3"
  },
  "language_info": {
   "name": "python",
   "version": "3.12.3"
  }
 },
 "nbformat": 4,
 "nbformat_minor": 2
}
