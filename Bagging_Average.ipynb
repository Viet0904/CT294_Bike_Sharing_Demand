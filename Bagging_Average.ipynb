{
 "cells": [
  {
   "cell_type": "markdown",
   "metadata": {},
   "source": [
    "Thêm Thư viện"
   ]
  },
  {
   "cell_type": "code",
   "execution_count": 32,
   "metadata": {},
   "outputs": [],
   "source": [
    "import math\n",
    "import pandas as pd\n",
    "from sklearn.model_selection import train_test_split\n",
    "import matplotlib.pyplot as plt\n",
    "from sklearn import linear_model\n",
    "from sklearn.metrics import mean_squared_error\n",
    "from sklearn.ensemble import VotingRegressor\n",
    "from sklearn.tree import DecisionTreeRegressor\n",
    "from sklearn.linear_model import LinearRegression\n",
    "from sklearn.neighbors import KNeighborsRegressor\n",
    "from sklearn.ensemble import RandomForestRegressor\n",
    "from sklearn.ensemble import BaggingRegressor\n",
    "from sklearn.model_selection import GridSearchCV\n",
    "import numpy as np\n",
    "import pandas as pd\n",
    "from sklearn.model_selection import KFold\n"
   ]
  },
  {
   "cell_type": "markdown",
   "metadata": {},
   "source": [
    "Load data từ file BikeSharingDemand"
   ]
  },
  {
   "cell_type": "code",
   "execution_count": 33,
   "metadata": {},
   "outputs": [
    {
     "name": "stdout",
     "output_type": "stream",
     "text": [
      "Hiển thị 5 dòng đầu của tập data\n",
      "          datetime  season  holiday  workingday  weather  temp   atemp  \\\n",
      "0  1/1/2011 0:00       1        0           0        1  9.84  14.395   \n",
      "1  1/1/2011 1:00       1        0           0        1  9.02  13.635   \n",
      "2  1/1/2011 2:00       1        0           0        1  9.02  13.635   \n",
      "3  1/1/2011 3:00       1        0           0        1  9.84  14.395   \n",
      "4  1/1/2011 4:00       1        0           0        1  9.84  14.395   \n",
      "\n",
      "   humidity  windspeed  casual  registered  count  \n",
      "0        81        0.0       3          13     16  \n",
      "1        80        0.0       8          32     40  \n",
      "2        80        0.0       5          27     32  \n",
      "3        75        0.0       3          10     13  \n",
      "4        75        0.0       0           1      1  \n",
      "Xem kiểu dữ liệu của từng thuộc tính  datetime       object\n",
      "season          int64\n",
      "holiday         int64\n",
      "workingday      int64\n",
      "weather         int64\n",
      "temp          float64\n",
      "atemp         float64\n",
      "humidity        int64\n",
      "windspeed     float64\n",
      "casual          int64\n",
      "registered      int64\n",
      "count           int64\n",
      "dtype: object\n",
      "<class 'pandas.core.frame.DataFrame'>\n",
      "RangeIndex: 10886 entries, 0 to 10885\n",
      "Data columns (total 12 columns):\n",
      " #   Column      Non-Null Count  Dtype  \n",
      "---  ------      --------------  -----  \n",
      " 0   datetime    10886 non-null  object \n",
      " 1   season      10886 non-null  int64  \n",
      " 2   holiday     10886 non-null  int64  \n",
      " 3   workingday  10886 non-null  int64  \n",
      " 4   weather     10886 non-null  int64  \n",
      " 5   temp        10886 non-null  float64\n",
      " 6   atemp       10886 non-null  float64\n",
      " 7   humidity    10886 non-null  int64  \n",
      " 8   windspeed   10886 non-null  float64\n",
      " 9   casual      10886 non-null  int64  \n",
      " 10  registered  10886 non-null  int64  \n",
      " 11  count       10886 non-null  int64  \n",
      "dtypes: float64(3), int64(8), object(1)\n",
      "memory usage: 1020.7+ KB\n",
      "Xem thông tin của dữ liệu  None\n",
      "Kiểm tra giá trị thiếu  datetime      0\n",
      "season        0\n",
      "holiday       0\n",
      "workingday    0\n",
      "weather       0\n",
      "temp          0\n",
      "atemp         0\n",
      "humidity      0\n",
      "windspeed     0\n",
      "casual        0\n",
      "registered    0\n",
      "count         0\n",
      "dtype: int64\n"
     ]
    }
   ],
   "source": [
    "# Load dữ liệu từ file CSV\n",
    "dt = pd.read_csv(\"BikeSharingDemand.csv\")\n",
    "print ( \"Hiển thị 5 dòng đầu của tập data\\n \", dt.head())\n",
    "print ( \"Xem kiểu dữ liệu của từng thuộc tính \", dt.dtypes)\n",
    "print ( \"Xem thông tin của dữ liệu \", dt.info())\n",
    "print ( \"Kiểm tra giá trị thiếu \",dt.isnull().sum())"
   ]
  },
  {
   "cell_type": "markdown",
   "metadata": {},
   "source": [
    "Chú thích cho tập dữ liệu  <br>\n",
    "datetime: cho biết thời gian theo dịnh dạng \"%m/%d/%Y %H:%M:%hS  <br> \n",
    "season: cho biết mùa  <br> \n",
    "1: mùa xuân  <br>\n",
    "2: mùa hè  <br>\n",
    "3: mùa thu  <br>\n",
    "4: mùa đông  <br>\n",
    "workingday: cho biết có phải là ngày làm việc không bao gồm cả cuối tuần và ngày lễ  <br> \n",
    "1: ngày làm việc  \n",
    "0: ngày không làm việc \n",
    "weather: Cho biết thời tiết  <br>\n",
    "1: Trời trong, có mây, có mây rải rác  <br>\n",
    "2: Sương mù + Đầy mây, sương mù + ít mây, sương mù  <br>\n",
    "3: Tuyết nhẹ, mưa nhẹ + sấm sét + mây rải rác, mưa nhẹ + mây rải rác  <br>\n",
    "4: Mưa lớn + mảnh băng + sấm sét + sương mù, tuyết + sương mù  <br>\n",
    "temp: Nhiệt độ thực tế tính theo độ Celsius (độ C)  <br>\n",
    "atemp: Nhiệt độ mà con người cảm thấy tính theo độ Celsius (độ C) <br>\n",
    "humidity: Độ ẩm tương đối <br>\n",
    "windspeed: Tốc độ gió <br>\n",
    "casual: Số lượng xe thuê mà không có đăng ký dịch vụ <br>\n",
    "registered: Số lượng xe thuê mà có đăng ký dịch vụ <br>\n",
    "count: Tổng số lượng xe được thuê <br>"
   ]
  },
  {
   "cell_type": "markdown",
   "metadata": {},
   "source": [
    "Xử lý Data"
   ]
  },
  {
   "cell_type": "code",
   "execution_count": 34,
   "metadata": {},
   "outputs": [
    {
     "name": "stdout",
     "output_type": "stream",
     "text": [
      " Hiển thị 5 dòng đầu của tập data\n",
      "              datetime  season  holiday  workingday  weather  temp   atemp  \\\n",
      "0 2011-01-01 00:00:00       1        0           0        1  9.84  14.395   \n",
      "1 2011-01-01 01:00:00       1        0           0        1  9.02  13.635   \n",
      "2 2011-01-01 02:00:00       1        0           0        1  9.02  13.635   \n",
      "3 2011-01-01 03:00:00       1        0           0        1  9.84  14.395   \n",
      "4 2011-01-01 04:00:00       1        0           0        1  9.84  14.395   \n",
      "\n",
      "   humidity  windspeed  casual  registered  count  year  month  weekday  hour  \n",
      "0        81        0.0       3          13     16  2011      1        5     0  \n",
      "1        80        0.0       8          32     40  2011      1        5     1  \n",
      "2        80        0.0       5          27     32  2011      1        5     2  \n",
      "3        75        0.0       3          10     13  2011      1        5     3  \n",
      "4        75        0.0       0           1      1  2011      1        5     4  \n",
      " Xem kiểu dữ liệu của từng thuộc tính datetime      datetime64[ns]\n",
      "season                 int64\n",
      "holiday                int64\n",
      "workingday             int64\n",
      "weather                int64\n",
      "temp                 float64\n",
      "atemp                float64\n",
      "humidity               int64\n",
      "windspeed            float64\n",
      "casual                 int64\n",
      "registered             int64\n",
      "count                  int64\n",
      "year                   int32\n",
      "month                  int32\n",
      "weekday                int32\n",
      "hour                   int32\n",
      "dtype: object\n",
      "<class 'pandas.core.frame.DataFrame'>\n",
      "RangeIndex: 10886 entries, 0 to 10885\n",
      "Data columns (total 16 columns):\n",
      " #   Column      Non-Null Count  Dtype         \n",
      "---  ------      --------------  -----         \n",
      " 0   datetime    10886 non-null  datetime64[ns]\n",
      " 1   season      10886 non-null  int64         \n",
      " 2   holiday     10886 non-null  int64         \n",
      " 3   workingday  10886 non-null  int64         \n",
      " 4   weather     10886 non-null  int64         \n",
      " 5   temp        10886 non-null  float64       \n",
      " 6   atemp       10886 non-null  float64       \n",
      " 7   humidity    10886 non-null  int64         \n",
      " 8   windspeed   10886 non-null  float64       \n",
      " 9   casual      10886 non-null  int64         \n",
      " 10  registered  10886 non-null  int64         \n",
      " 11  count       10886 non-null  int64         \n",
      " 12  year        10886 non-null  int32         \n",
      " 13  month       10886 non-null  int32         \n",
      " 14  weekday     10886 non-null  int32         \n",
      " 15  hour        10886 non-null  int32         \n",
      "dtypes: datetime64[ns](1), float64(3), int32(4), int64(8)\n",
      "memory usage: 1.2 MB\n",
      " Xem thông tin của dữ liệu None\n",
      " Kiểm tra giá trị thiếu datetime      0\n",
      "season        0\n",
      "holiday       0\n",
      "workingday    0\n",
      "weather       0\n",
      "temp          0\n",
      "atemp         0\n",
      "humidity      0\n",
      "windspeed     0\n",
      "casual        0\n",
      "registered    0\n",
      "count         0\n",
      "year          0\n",
      "month         0\n",
      "weekday       0\n",
      "hour          0\n",
      "dtype: int64\n"
     ]
    }
   ],
   "source": [
    "# tạo cột year, month, day, hour,weekday từ cột datetime\n",
    "dt[\"datetime\"] = pd.to_datetime(dt[\"datetime\"])\n",
    "dt[\"year\"] = dt[\"datetime\"].dt.year\n",
    "dt[\"month\"] = dt[\"datetime\"].dt.month\n",
    "dt[\"weekday\"] = dt[\"datetime\"].dt.weekday\n",
    "dt[\"hour\"] = dt[\"datetime\"].dt.hour\n",
    "print(\" Hiển thị 5 dòng đầu của tập data\\n\",  dt.head())\n",
    "print(\" Xem kiểu dữ liệu của từng thuộc tính\",  dt.dtypes)\n",
    "print(\" Xem thông tin của dữ liệu\",  dt.info())\n",
    "print(\" Kiểm tra giá trị thiếu\", dt.isnull().sum())"
   ]
  },
  {
   "cell_type": "markdown",
   "metadata": {},
   "source": [
    "Chú thích các thuộc tính mới  <br>\n",
    "month: tháng (1-12)  <br>\n",
    "year: năm (2011, 2012)  <br>\n",
    "hour: giờ trong ngày (0-23 giờ)  <br>\n",
    "weekday: ngày trong tuần  <br> \n",
    "0: thứ 2  <br>\n",
    "1: thứ 3  <br>\n",
    "2: thứ 4  <br>\n",
    "3: thứ 5  <br>\n",
    "4: thứ 6  <br>\n",
    "5: thứ 7  <br>\n",
    "6: chủ nhật  <br>"
   ]
  },
  {
   "cell_type": "markdown",
   "metadata": {},
   "source": [
    "Chia Dữ tập dữ liệu theo Hold-Out <br>\n",
    "Test = 1/3 , train = 2/3  <br>"
   ]
  },
  {
   "cell_type": "code",
   "execution_count": 35,
   "metadata": {},
   "outputs": [
    {
     "name": "stdout",
     "output_type": "stream",
     "text": [
      "       season  holiday  workingday  weather   temp   atemp  humidity  \\\n",
      "0           1        0           0        1   9.84  14.395        81   \n",
      "1           1        0           0        1   9.02  13.635        80   \n",
      "2           1        0           0        1   9.02  13.635        80   \n",
      "3           1        0           0        1   9.84  14.395        75   \n",
      "4           1        0           0        1   9.84  14.395        75   \n",
      "...       ...      ...         ...      ...    ...     ...       ...   \n",
      "10881       4        0           1        1  15.58  19.695        50   \n",
      "10882       4        0           1        1  14.76  17.425        57   \n",
      "10883       4        0           1        1  13.94  15.910        61   \n",
      "10884       4        0           1        1  13.94  17.425        61   \n",
      "10885       4        0           1        1  13.12  16.665        66   \n",
      "\n",
      "       windspeed  year  month  weekday  hour  \n",
      "0         0.0000  2011      1        5     0  \n",
      "1         0.0000  2011      1        5     1  \n",
      "2         0.0000  2011      1        5     2  \n",
      "3         0.0000  2011      1        5     3  \n",
      "4         0.0000  2011      1        5     4  \n",
      "...          ...   ...    ...      ...   ...  \n",
      "10881    26.0027  2012     12        2    19  \n",
      "10882    15.0013  2012     12        2    20  \n",
      "10883    15.0013  2012     12        2    21  \n",
      "10884     6.0032  2012     12        2    22  \n",
      "10885     8.9981  2012     12        2    23  \n",
      "\n",
      "[10886 rows x 12 columns]\n",
      "0         16\n",
      "1         40\n",
      "2         32\n",
      "3         13\n",
      "4          1\n",
      "        ... \n",
      "10881    336\n",
      "10882    241\n",
      "10883    168\n",
      "10884    129\n",
      "10885     88\n",
      "Name: count, Length: 10886, dtype: int64\n",
      "      season  holiday  workingday  weather   temp   atemp  humidity  \\\n",
      "9519       4        0           1        1  18.86  22.725        72   \n",
      "1374       2        0           0        1  12.30  16.665        61   \n",
      "1720       2        0           0        1  21.32  25.000        34   \n",
      "5025       4        0           0        1  13.12  16.665        57   \n",
      "4791       4        0           0        1  20.50  24.240        34   \n",
      "...      ...      ...         ...      ...    ...     ...       ...   \n",
      "5734       1        0           0        1   6.56   8.335        47   \n",
      "5191       4        0           0        1  11.48  12.880        61   \n",
      "5390       4        0           0        1  11.48  13.635        48   \n",
      "860        1        0           0        1  15.58  19.695        17   \n",
      "7270       2        0           1        2  22.14  25.760        88   \n",
      "\n",
      "      windspeed  year  month  weekday  hour  \n",
      "9519     7.0015  2012     10        0     0  \n",
      "1374     0.0000  2011      4        6     3  \n",
      "1720    26.0027  2011      4        6    14  \n",
      "5025     6.0032  2011     12        5    11  \n",
      "4791    16.9979  2011     11        5    17  \n",
      "...         ...   ...    ...      ...   ...  \n",
      "5734    11.0014  2012      1        5     2  \n",
      "5191    19.0012  2011     12        5     9  \n",
      "5390    16.9979  2011     12        6    16  \n",
      "860     35.0008  2011      2        5     7  \n",
      "7270    12.9980  2012      5        2     7  \n",
      "\n",
      "[7257 rows x 12 columns]\n",
      "       season  holiday  workingday  weather   temp   atemp  humidity  \\\n",
      "3133        3        0           1        1  33.62  40.150        59   \n",
      "5786        1        1           0        1   4.10   6.820        54   \n",
      "5224        4        0           0        1   9.84  11.365        48   \n",
      "8953        3        0           1        2  29.52  34.090        62   \n",
      "8054        2        0           1        1  25.42  31.060        53   \n",
      "...       ...      ...         ...      ...    ...     ...       ...   \n",
      "6383        1        0           0        2  14.76  18.180        93   \n",
      "177         1        0           0        1   7.38   6.820        29   \n",
      "1643        2        0           1        1  18.86  22.725        51   \n",
      "10122       4        0           1        2  11.48  12.880        52   \n",
      "4065        4        0           0        3  16.40  20.455        76   \n",
      "\n",
      "       windspeed  year  month  weekday  hour  \n",
      "3133      0.0000  2011      7        1    11  \n",
      "5786      6.0032  2012      1        0     6  \n",
      "5224     12.9980  2011     12        6    18  \n",
      "8953     12.9980  2012      8        2    10  \n",
      "8054     16.9979  2012      6        4    23  \n",
      "...          ...   ...    ...      ...   ...  \n",
      "6383      6.0032  2012      3        5     5  \n",
      "177      30.0026  2011      1        5    16  \n",
      "1643      8.9981  2011      4        3     9  \n",
      "10122    22.0028  2012     11        2     3  \n",
      "4065     23.9994  2011     10        5    10  \n",
      "\n",
      "[3629 rows x 12 columns]\n"
     ]
    }
   ],
   "source": [
    "# Chia dữ liệu thành X và y\n",
    "X = dt.drop(columns=[\"casual\", \"registered\", \"count\", \"datetime\"])\n",
    "print(X)\n",
    "y = dt[\"count\"] \n",
    "print(y)\n",
    "# Chia dữ liệu thành tập huấn luyện và tập kiểm tra\n",
    "X_train, X_test, y_train, y_test = train_test_split(\n",
    "    X, y, test_size=1 / 3, random_state=42\n",
    ")\n",
    "print(X_train)\n",
    "print(X_test)"
   ]
  },
  {
   "cell_type": "markdown",
   "metadata": {},
   "source": [
    "Xây dụng mô hình bằng phương pháp tổng hợp mô hình (Bagging Average) <br>\n",
    "Với mô hình cơ sở là RandomForestRegressor (rừng ngẫu nhiên)  <br>"
   ]
  },
  {
   "cell_type": "code",
   "execution_count": 36,
   "metadata": {},
   "outputs": [
    {
     "name": "stdout",
     "output_type": "stream",
     "text": [
      "RandomForestRegressor MSE = 1771.9371726718855\n",
      "RandomForestRegressor RMSE =42.094\n"
     ]
    }
   ],
   "source": [
    "tree = RandomForestRegressor()\n",
    "# Tạo 1 tập hợp gồm 10 mô hình cây hồi quy\n",
    "baggingTree = BaggingRegressor(estimator=tree,n_estimators=10,random_state=42)\n",
    "# huấn luyện mô hình \n",
    "baggingTree.fit(X_train, y_train)\n",
    "# Dự đoán kết quả\n",
    "y_pred = baggingTree.predict(X_test)\n",
    "# Đánh giá mô hình\n",
    "err_DT = mean_squared_error(y_test, y_pred)\n",
    "print(\"RandomForestRegressor MSE =\", str(err_DT))\n",
    "rmse_err_DT = math.sqrt(err_DT)\n",
    "print(\"RandomForestRegressor RMSE = \" + str(round(rmse_err_DT, 3)))"
   ]
  },
  {
   "cell_type": "markdown",
   "metadata": {},
   "source": [
    "Xây dụng mô hình bằng phương pháp tổng hợp mô hình (Bagging Average)<br>\n",
    "Với mô hình cơ sở là DecisionTreeRegressor (cây hồi quy)  <br>"
   ]
  },
  {
   "cell_type": "code",
   "execution_count": 37,
   "metadata": {},
   "outputs": [
    {
     "name": "stdout",
     "output_type": "stream",
     "text": [
      "DecisionTreeRegressor MSE = 1836.5793603227091\n",
      "DecisionTreeRegressor RMSE = 42.855\n"
     ]
    }
   ],
   "source": [
    "tree = DecisionTreeRegressor()\n",
    "# Tạo 1 tập hợp gồm 10 mô hình cây hồi quy\n",
    "baggingTree = BaggingRegressor(estimator=tree, n_estimators=10, random_state=42)\n",
    "# huấn luyện mô hình \n",
    "baggingTree.fit(X_train, y_train)\n",
    "# Dự đoán kết quả\n",
    "y_pred = baggingTree.predict(X_test)\n",
    "# Đánh giá mô hình\n",
    "err_DT = mean_squared_error(y_test, y_pred)\n",
    "print(\"DecisionTreeRegressor MSE =\", str(err_DT))\n",
    "rmse_err_DT = math.sqrt(err_DT)\n",
    "print(\"DecisionTreeRegressor RMSE = \" + str(round(rmse_err_DT, 3)))"
   ]
  },
  {
   "cell_type": "markdown",
   "metadata": {},
   "source": [
    "Huấn luyện mô hình"
   ]
  },
  {
   "cell_type": "markdown",
   "metadata": {},
   "source": [
    "Xây dụng mô hình bằng phương pháp tổng hợp mô hình (Bagging Average) <br>\n",
    "Với mô hình cơ sở là LinearRegression (Hồi Quy Tuyến tính)  <br>"
   ]
  },
  {
   "cell_type": "code",
   "execution_count": 38,
   "metadata": {},
   "outputs": [
    {
     "name": "stdout",
     "output_type": "stream",
     "text": [
      "LinearRegression MSE = 19850.0021534245\n",
      "LinearRegression RMSE = 140.89\n"
     ]
    }
   ],
   "source": [
    "tree = LinearRegression()\n",
    "# Tạo 1 tập hợp gồm 10 mô hình cây hồi quy\n",
    "baggingTree = BaggingRegressor(estimator=tree, n_estimators=10, random_state=42)\n",
    "# huấn luyện mô hình \n",
    "baggingTree.fit(X_train, y_train)\n",
    "# Dự đoán kết quả\n",
    "y_pred = baggingTree.predict(X_test)\n",
    "# Đánh giá mô hình\n",
    "err_DT = mean_squared_error(y_test, y_pred)\n",
    "print(\"LinearRegression MSE =\", str(err_DT))\n",
    "rmse_err_DT = math.sqrt(err_DT)\n",
    "print(\"LinearRegression RMSE = \" + str(round(rmse_err_DT, 3)))"
   ]
  },
  {
   "cell_type": "markdown",
   "metadata": {},
   "source": [
    "Xây dụng mô hình bằng phương pháp tổng hợp mô hình (Bagging Average) <br>\n",
    "Với mô hình cơ sở là KNeighborsRegressor (KNN) "
   ]
  },
  {
   "cell_type": "code",
   "execution_count": 39,
   "metadata": {},
   "outputs": [
    {
     "name": "stdout",
     "output_type": "stream",
     "text": [
      "KNeighborsRegressor MSE = 12251.952401635606\n",
      "KNeighborsRegressor RMSE =110.689\n"
     ]
    }
   ],
   "source": [
    "knn = KNeighborsRegressor(n_neighbors=9, p=1, weights=\"distance\")\n",
    "# Tạo 1 tập hợp gồm 10 mô hình hồi quy tuyến tính\n",
    "baggingLM = BaggingRegressor(estimator=knn, n_estimators=10, random_state=42)\n",
    "# huấn luyện mô hình\n",
    "baggingLM.fit(X_train, y_train)\n",
    "# dụ đoán kết quả\n",
    "y_pred = baggingLM.predict(X_test)\n",
    "# đánh giá mô hình \n",
    "err_LM = mean_squared_error(y_test, y_pred)\n",
    "print(\"KNeighborsRegressor MSE =\", str(err_LM))\n",
    "rmse_err_LM = math.sqrt(err_LM)\n",
    "print(\"KNeighborsRegressor RMSE  =\" + str(round(rmse_err_LM, 3)))"
   ]
  },
  {
   "cell_type": "markdown",
   "metadata": {},
   "source": [
    "Chia tập dữ liệu theo Kfold"
   ]
  },
  {
   "cell_type": "markdown",
   "metadata": {},
   "source": [
    "Load Data"
   ]
  },
  {
   "cell_type": "code",
   "execution_count": 40,
   "metadata": {},
   "outputs": [
    {
     "name": "stdout",
     "output_type": "stream",
     "text": [
      "Hiển thị 5 dòng đầu của tập data\n",
      "          datetime  season  holiday  workingday  weather  temp   atemp  \\\n",
      "0  1/1/2011 0:00       1        0           0        1  9.84  14.395   \n",
      "1  1/1/2011 1:00       1        0           0        1  9.02  13.635   \n",
      "2  1/1/2011 2:00       1        0           0        1  9.02  13.635   \n",
      "3  1/1/2011 3:00       1        0           0        1  9.84  14.395   \n",
      "4  1/1/2011 4:00       1        0           0        1  9.84  14.395   \n",
      "\n",
      "   humidity  windspeed  casual  registered  count  \n",
      "0        81        0.0       3          13     16  \n",
      "1        80        0.0       8          32     40  \n",
      "2        80        0.0       5          27     32  \n",
      "3        75        0.0       3          10     13  \n",
      "4        75        0.0       0           1      1  \n",
      "Xem kiểu dữ liệu của từng thuộc tính  datetime       object\n",
      "season          int64\n",
      "holiday         int64\n",
      "workingday      int64\n",
      "weather         int64\n",
      "temp          float64\n",
      "atemp         float64\n",
      "humidity        int64\n",
      "windspeed     float64\n",
      "casual          int64\n",
      "registered      int64\n",
      "count           int64\n",
      "dtype: object\n",
      "<class 'pandas.core.frame.DataFrame'>\n",
      "RangeIndex: 10886 entries, 0 to 10885\n",
      "Data columns (total 12 columns):\n",
      " #   Column      Non-Null Count  Dtype  \n",
      "---  ------      --------------  -----  \n",
      " 0   datetime    10886 non-null  object \n",
      " 1   season      10886 non-null  int64  \n",
      " 2   holiday     10886 non-null  int64  \n",
      " 3   workingday  10886 non-null  int64  \n",
      " 4   weather     10886 non-null  int64  \n",
      " 5   temp        10886 non-null  float64\n",
      " 6   atemp       10886 non-null  float64\n",
      " 7   humidity    10886 non-null  int64  \n",
      " 8   windspeed   10886 non-null  float64\n",
      " 9   casual      10886 non-null  int64  \n",
      " 10  registered  10886 non-null  int64  \n",
      " 11  count       10886 non-null  int64  \n",
      "dtypes: float64(3), int64(8), object(1)\n",
      "memory usage: 1020.7+ KB\n",
      "Xem thông tin của dữ liệu  None\n",
      "Kiểm tra giá trị thiếu  datetime      0\n",
      "season        0\n",
      "holiday       0\n",
      "workingday    0\n",
      "weather       0\n",
      "temp          0\n",
      "atemp         0\n",
      "humidity      0\n",
      "windspeed     0\n",
      "casual        0\n",
      "registered    0\n",
      "count         0\n",
      "dtype: int64\n"
     ]
    }
   ],
   "source": [
    "# Load dữ liệu từ file CSV\n",
    "dt = pd.read_csv(\"./BikeSharingDemand.csv\")\n",
    "print ( \"Hiển thị 5 dòng đầu của tập data\\n \", dt.head())\n",
    "print ( \"Xem kiểu dữ liệu của từng thuộc tính \", dt.dtypes)\n",
    "print ( \"Xem thông tin của dữ liệu \", dt.info())\n",
    "print ( \"Kiểm tra giá trị thiếu \",dt.isnull().sum())"
   ]
  },
  {
   "cell_type": "markdown",
   "metadata": {},
   "source": [
    "Xử lý data"
   ]
  },
  {
   "cell_type": "code",
   "execution_count": 41,
   "metadata": {},
   "outputs": [
    {
     "name": "stdout",
     "output_type": "stream",
     "text": [
      "Hiển thị 5 dòng đầu của tập data\n",
      "               datetime  season  holiday  workingday  weather  temp   atemp  \\\n",
      "0 2011-01-01 00:00:00       1        0           0        1  9.84  14.395   \n",
      "1 2011-01-01 01:00:00       1        0           0        1  9.02  13.635   \n",
      "2 2011-01-01 02:00:00       1        0           0        1  9.02  13.635   \n",
      "3 2011-01-01 03:00:00       1        0           0        1  9.84  14.395   \n",
      "4 2011-01-01 04:00:00       1        0           0        1  9.84  14.395   \n",
      "\n",
      "   humidity  windspeed  casual  registered  count  year  month  weekday  hour  \n",
      "0        81        0.0       3          13     16  2011      1        5     0  \n",
      "1        80        0.0       8          32     40  2011      1        5     1  \n",
      "2        80        0.0       5          27     32  2011      1        5     2  \n",
      "3        75        0.0       3          10     13  2011      1        5     3  \n",
      "4        75        0.0       0           1      1  2011      1        5     4  \n",
      "Xem kiểu dữ liệu của từng thuộc tính  datetime      datetime64[ns]\n",
      "season                 int64\n",
      "holiday                int64\n",
      "workingday             int64\n",
      "weather                int64\n",
      "temp                 float64\n",
      "atemp                float64\n",
      "humidity               int64\n",
      "windspeed            float64\n",
      "casual                 int64\n",
      "registered             int64\n",
      "count                  int64\n",
      "year                   int32\n",
      "month                  int32\n",
      "weekday                int32\n",
      "hour                   int32\n",
      "dtype: object\n",
      "<class 'pandas.core.frame.DataFrame'>\n",
      "RangeIndex: 10886 entries, 0 to 10885\n",
      "Data columns (total 16 columns):\n",
      " #   Column      Non-Null Count  Dtype         \n",
      "---  ------      --------------  -----         \n",
      " 0   datetime    10886 non-null  datetime64[ns]\n",
      " 1   season      10886 non-null  int64         \n",
      " 2   holiday     10886 non-null  int64         \n",
      " 3   workingday  10886 non-null  int64         \n",
      " 4   weather     10886 non-null  int64         \n",
      " 5   temp        10886 non-null  float64       \n",
      " 6   atemp       10886 non-null  float64       \n",
      " 7   humidity    10886 non-null  int64         \n",
      " 8   windspeed   10886 non-null  float64       \n",
      " 9   casual      10886 non-null  int64         \n",
      " 10  registered  10886 non-null  int64         \n",
      " 11  count       10886 non-null  int64         \n",
      " 12  year        10886 non-null  int32         \n",
      " 13  month       10886 non-null  int32         \n",
      " 14  weekday     10886 non-null  int32         \n",
      " 15  hour        10886 non-null  int32         \n",
      "dtypes: datetime64[ns](1), float64(3), int32(4), int64(8)\n",
      "memory usage: 1.2 MB\n",
      "Xem thông tin của dữ liệu  None\n",
      "Kiểm tra giá trị thiếu  datetime      0\n",
      "season        0\n",
      "holiday       0\n",
      "workingday    0\n",
      "weather       0\n",
      "temp          0\n",
      "atemp         0\n",
      "humidity      0\n",
      "windspeed     0\n",
      "casual        0\n",
      "registered    0\n",
      "count         0\n",
      "year          0\n",
      "month         0\n",
      "weekday       0\n",
      "hour          0\n",
      "dtype: int64\n"
     ]
    }
   ],
   "source": [
    "# tạo cột year, month, day, hour,weekday từ cột datetime\n",
    "dt[\"datetime\"] = pd.to_datetime(dt[\"datetime\"])\n",
    "dt[\"year\"] = dt[\"datetime\"].dt.year\n",
    "dt[\"month\"] = dt[\"datetime\"].dt.month\n",
    "dt[\"weekday\"] = dt[\"datetime\"].dt.weekday\n",
    "dt[\"hour\"] = dt[\"datetime\"].dt.hour\n",
    "print ( \"Hiển thị 5 dòng đầu của tập data\\n \", dt.head())\n",
    "print ( \"Xem kiểu dữ liệu của từng thuộc tính \", dt.dtypes)\n",
    "print ( \"Xem thông tin của dữ liệu \", dt.info())\n",
    "print ( \"Kiểm tra giá trị thiếu \",dt.isnull().sum())"
   ]
  },
  {
   "cell_type": "markdown",
   "metadata": {},
   "source": [
    "Chia tập dữ liệu theo kfold "
   ]
  },
  {
   "cell_type": "code",
   "execution_count": 42,
   "metadata": {},
   "outputs": [
    {
     "name": "stdout",
     "output_type": "stream",
     "text": [
      "       season  holiday  workingday  weather   temp   atemp  humidity  \\\n",
      "0           1        0           0        1   9.84  14.395        81   \n",
      "1           1        0           0        1   9.02  13.635        80   \n",
      "2           1        0           0        1   9.02  13.635        80   \n",
      "3           1        0           0        1   9.84  14.395        75   \n",
      "4           1        0           0        1   9.84  14.395        75   \n",
      "...       ...      ...         ...      ...    ...     ...       ...   \n",
      "10881       4        0           1        1  15.58  19.695        50   \n",
      "10882       4        0           1        1  14.76  17.425        57   \n",
      "10883       4        0           1        1  13.94  15.910        61   \n",
      "10884       4        0           1        1  13.94  17.425        61   \n",
      "10885       4        0           1        1  13.12  16.665        66   \n",
      "\n",
      "       windspeed  year  month  weekday  hour  \n",
      "0         0.0000  2011      1        5     0  \n",
      "1         0.0000  2011      1        5     1  \n",
      "2         0.0000  2011      1        5     2  \n",
      "3         0.0000  2011      1        5     3  \n",
      "4         0.0000  2011      1        5     4  \n",
      "...          ...   ...    ...      ...   ...  \n",
      "10881    26.0027  2012     12        2    19  \n",
      "10882    15.0013  2012     12        2    20  \n",
      "10883    15.0013  2012     12        2    21  \n",
      "10884     6.0032  2012     12        2    22  \n",
      "10885     8.9981  2012     12        2    23  \n",
      "\n",
      "[10886 rows x 12 columns]\n",
      "0         16\n",
      "1         40\n",
      "2         32\n",
      "3         13\n",
      "4          1\n",
      "        ... \n",
      "10881    336\n",
      "10882    241\n",
      "10883    168\n",
      "10884    129\n",
      "10885     88\n",
      "Name: count, Length: 10886, dtype: int64\n"
     ]
    }
   ],
   "source": [
    "# Chia dữ liệu thành X và y\n",
    "X = dt.drop(columns=[\"casual\", \"registered\", \"count\", \"datetime\"])\n",
    "print(X)\n",
    "y = dt[\"count\"] \n",
    "print(y)\n",
    "# Số lượng fold\n",
    "n_splits = 10\n",
    "\n",
    "# Khởi tạo KFold\n",
    "kf = KFold(n_splits=n_splits, shuffle=True, random_state=42)"
   ]
  },
  {
   "cell_type": "markdown",
   "metadata": {},
   "source": []
  },
  {
   "cell_type": "markdown",
   "metadata": {},
   "source": [
    "Chia tập dữ liệu theo kfold và Xây dựng mô hình rừng ngẫu nhiên"
   ]
  },
  {
   "cell_type": "code",
   "execution_count": 43,
   "metadata": {},
   "outputs": [
    {
     "name": "stdout",
     "output_type": "stream",
     "text": [
      "RandomForestRegressor Average MSE = 1642.104306437011\n",
      "RandomForestRegressor  Average RMSE = 40.48955890539255\n"
     ]
    }
   ],
   "source": [
    "\n",
    "\n",
    "# Danh sách để lưu trữ MSE và RMSE cho từng mô hình\n",
    "mse_results = []\n",
    "rmse_results = []\n",
    "\n",
    "# Lặp qua các fold\n",
    "for train_index, test_index in kf.split(X):\n",
    "    X_train, X_test = X.iloc[train_index], X.iloc[test_index]\n",
    "    y_train, y_test = y.iloc[train_index], y.iloc[test_index]\n",
    "\n",
    "    ## Bagging\n",
    "    # Mô hình cơ sở là Decision Tree\n",
    "    tree = RandomForestRegressor()\n",
    "    # Tạo mô hình Bagging với 10 mô hình cơ sở\n",
    "    baggingTree = BaggingRegressor(estimator=tree, n_estimators=10, random_state=42)\n",
    "    # Huấn luyện mô hình\n",
    "    baggingTree.fit(X_train, y_train)\n",
    "    # Dự đoán kết quả\n",
    "    y_pred = baggingTree.predict(X_test)\n",
    "    # Đánh giá mô hình\n",
    "    mse = mean_squared_error(y_test, y_pred)\n",
    "    rmse = math.sqrt(mse)\n",
    "    mse_results.append(mse)\n",
    "    rmse_results.append(rmse)\n",
    "\n",
    "# Tính trung bình của MSE và RMSE từ các fold\n",
    "avg_mse = sum(mse_results) / len(mse_results)\n",
    "avg_rmse = sum(rmse_results) / len(rmse_results)\n",
    "\n",
    "# In ra kết quả trung bình của MSE và RMSE\n",
    "print(\"RandomForestRegressor Average MSE = \", avg_mse)\n",
    "print(\"RandomForestRegressor  Average RMSE = \", avg_rmse)\n"
   ]
  },
  {
   "cell_type": "markdown",
   "metadata": {},
   "source": [
    "Chia tập dữ liệu theo kfold và Xây dựng mô hình cây hồi quy"
   ]
  },
  {
   "cell_type": "code",
   "execution_count": 44,
   "metadata": {},
   "outputs": [
    {
     "name": "stdout",
     "output_type": "stream",
     "text": [
      "DecisionTreeRegressor Average MSE =  1837.3079577311626\n",
      "DecisionTreeRegressor  Average RMSE =  42.800427332501116\n"
     ]
    }
   ],
   "source": [
    "# Danh sách để lưu trữ MSE và RMSE cho từng mô hình\n",
    "mse_results = []\n",
    "rmse_results = []\n",
    "\n",
    "# Lặp qua các fold\n",
    "for train_index, test_index in kf.split(X):\n",
    "    X_train, X_test = X.iloc[train_index], X.iloc[test_index]\n",
    "    y_train, y_test = y.iloc[train_index], y.iloc[test_index]\n",
    "\n",
    "    ## Bagging\n",
    "    # Mô hình cơ sở là Decision Tree\n",
    "    tree = DecisionTreeRegressor()\n",
    "    # Tạo mô hình Bagging với 10 mô hình cơ sở\n",
    "    baggingTree = BaggingRegressor(estimator=tree, n_estimators=10, random_state=42)\n",
    "    # Huấn luyện mô hình\n",
    "    baggingTree.fit(X_train, y_train)\n",
    "    # Dự đoán kết quả\n",
    "    y_pred = baggingTree.predict(X_test)\n",
    "    # Đánh giá mô hình\n",
    "    mse = mean_squared_error(y_test, y_pred)\n",
    "    rmse = math.sqrt(mse)\n",
    "    mse_results.append(mse)\n",
    "    rmse_results.append(rmse)\n",
    "\n",
    "# Tính trung bình của MSE và RMSE từ các fold\n",
    "avg_mse = sum(mse_results) / len(mse_results)\n",
    "avg_rmse = sum(rmse_results) / len(rmse_results)\n",
    "\n",
    "# In ra kết quả trung bình của MSE và RMSE\n",
    "print(\"DecisionTreeRegressor Average MSE = \", avg_mse)\n",
    "print(\"DecisionTreeRegressor  Average RMSE = \", avg_rmse)"
   ]
  },
  {
   "cell_type": "markdown",
   "metadata": {},
   "source": [
    "Chia tập dữ liệu theo kfold và huấn luyện mô hình với hồi quy tuyến tính"
   ]
  },
  {
   "cell_type": "code",
   "execution_count": 45,
   "metadata": {},
   "outputs": [
    {
     "name": "stdout",
     "output_type": "stream",
     "text": [
      "LinearRegression Average MSE =  20088.30280659077\n",
      "LinearRegression Average RMSE =  141.70723795235048\n"
     ]
    }
   ],
   "source": [
    "\n",
    "# Danh sách để lưu trữ MSE và RMSE cho từng mô hình\n",
    "mse_results = []\n",
    "rmse_results = []\n",
    "\n",
    "# Lặp qua các fold\n",
    "for train_index, test_index in kf.split(X):\n",
    "    X_train, X_test = X.iloc[train_index], X.iloc[test_index]\n",
    "    y_train, y_test = y.iloc[train_index], y.iloc[test_index]\n",
    "\n",
    "    ## Bagging\n",
    "    # Mô hình cơ sở là Decision Tree\n",
    "    tree = LinearRegression()\n",
    "    # Tạo mô hình Bagging với 10 mô hình cơ sở\n",
    "    baggingTree = BaggingRegressor(estimator=tree, n_estimators=10, random_state=42)\n",
    "    # Huấn luyện mô hình\n",
    "    baggingTree.fit(X_train, y_train)\n",
    "    # Dự đoán kết quả\n",
    "    y_pred = baggingTree.predict(X_test)\n",
    "    # Đánh giá mô hình\n",
    "    mse = mean_squared_error(y_test, y_pred)\n",
    "    rmse = math.sqrt(mse)\n",
    "    mse_results.append(mse)\n",
    "    rmse_results.append(rmse)\n",
    "\n",
    "# Tính trung bình của MSE và RMSE từ các fold\n",
    "avg_mse = sum(mse_results) / len(mse_results)\n",
    "avg_rmse = sum(rmse_results) / len(rmse_results)\n",
    "\n",
    "# In ra kết quả trung bình của MSE và RMSE\n",
    "print(\"LinearRegression Average MSE = \", avg_mse)\n",
    "print(\"LinearRegression Average RMSE = \", avg_rmse)\n"
   ]
  },
  {
   "cell_type": "markdown",
   "metadata": {},
   "source": [
    "Chia tập dữ liệu theo kfold và huấn luyện mô hình với KNN"
   ]
  },
  {
   "cell_type": "code",
   "execution_count": 46,
   "metadata": {},
   "outputs": [
    {
     "name": "stdout",
     "output_type": "stream",
     "text": [
      "KNeighborsRegressor MSE =  11456.63966169181\n",
      "KNeighborsRegressor Average RMSE =  106.97962755001348\n"
     ]
    }
   ],
   "source": [
    "\n",
    "# Danh sách để lưu trữ MSE và RMSE cho từng mô hình\n",
    "mse_results = []\n",
    "rmse_results = []\n",
    "\n",
    "# Lặp qua các fold\n",
    "for train_index, test_index in kf.split(X):\n",
    "    X_train, X_test = X.iloc[train_index], X.iloc[test_index]\n",
    "    y_train, y_test = y.iloc[train_index], y.iloc[test_index]\n",
    "\n",
    "    ## Bagging\n",
    "    # Mô hình cơ sở là Decision Tree\n",
    "    tree = KNeighborsRegressor(n_neighbors=9, p=1, weights=\"distance\")\n",
    "    # Tạo mô hình Bagging với 10 mô hình cơ sở\n",
    "    baggingTree = BaggingRegressor(estimator=tree, n_estimators=10, random_state=42)\n",
    "    # Huấn luyện mô hình\n",
    "    baggingTree.fit(X_train, y_train)\n",
    "    # Dự đoán kết quả\n",
    "    y_pred = baggingTree.predict(X_test)\n",
    "    # Đánh giá mô hình\n",
    "    mse = mean_squared_error(y_test, y_pred)\n",
    "    rmse = math.sqrt(mse)\n",
    "    mse_results.append(mse)\n",
    "    rmse_results.append(rmse)\n",
    "\n",
    "# Tính trung bình của MSE và RMSE từ các fold\n",
    "avg_mse = sum(mse_results) / len(mse_results)\n",
    "avg_rmse = sum(rmse_results) / len(rmse_results)\n",
    "\n",
    "# In ra kết quả trung bình của MSE và RMSE\n",
    "print(\"KNeighborsRegressor MSE = \", avg_mse)\n",
    "print(\"KNeighborsRegressor Average RMSE = \", avg_rmse)\n"
   ]
  }
 ],
 "metadata": {
  "kernelspec": {
   "display_name": "Python 3",
   "language": "python",
   "name": "python3"
  },
  "language_info": {
   "codemirror_mode": {
    "name": "ipython",
    "version": 3
   },
   "file_extension": ".py",
   "mimetype": "text/x-python",
   "name": "python",
   "nbconvert_exporter": "python",
   "pygments_lexer": "ipython3",
   "version": "3.12.2"
  }
 },
 "nbformat": 4,
 "nbformat_minor": 2
}
