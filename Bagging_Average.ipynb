{
 "cells": [
  {
   "cell_type": "markdown",
   "metadata": {},
   "source": [
    "Thêm Thư viện"
   ]
  },
  {
   "cell_type": "code",
   "execution_count": 11,
   "metadata": {},
   "outputs": [],
   "source": [
    "import math\n",
    "import pandas as pd\n",
    "from sklearn.model_selection import train_test_split\n",
    "import matplotlib.pyplot as plt\n",
    "from sklearn import linear_model\n",
    "from sklearn.metrics import mean_squared_error\n",
    "from sklearn.ensemble import VotingRegressor\n",
    "from sklearn.tree import DecisionTreeRegressor\n",
    "from sklearn.linear_model import LinearRegression\n",
    "from sklearn.neighbors import KNeighborsRegressor\n",
    "from sklearn.ensemble import BaggingRegressor\n",
    "import numpy as np\n",
    "import pandas as pd\n",
    "from sklearn.model_selection import KFold\n",
    "from sklearn.ensemble import GradientBoostingRegressor"
   ]
  },
  {
   "cell_type": "markdown",
   "metadata": {},
   "source": [
    "Load data từ file BikeSharingDemand"
   ]
  },
  {
   "cell_type": "code",
   "execution_count": null,
   "metadata": {},
   "outputs": [],
   "source": [
    "# Load dữ liệu từ file CSV\n",
    "dt = pd.read_csv(\"BikeSharingDemand.csv\")\n",
    "print ( \"Hiển thị 5 dòng đầu của tập data\\n \", dt.head())\n",
    "print ( \"Xem kiểu dữ liệu của từng thuộc tính \", dt.dtypes)\n",
    "print ( \"Xem thông tin của dữ liệu \", dt.info())\n",
    "print ( \"Kiểm tra giá trị thiếu \",dt.isnull().sum())"
   ]
  },
  {
   "cell_type": "markdown",
   "metadata": {},
   "source": [
    "Chú thích cho tập dữ liệu  <br>\n",
    "[!FAQ]\n",
    "||datetime: cho biết thời gian theo dịnh dạng \"%m/%d/%Y %H:%M:%hS  <br> \n",
    "season: cho biết mùa  <br> \n",
    "1: mùa xuân  <br>\n",
    "2: mùa hè  <br>\n",
    "3: mùa thu  <br>\n",
    "4: mùa đông  <br>\n",
    "workingday: cho biết có phải là ngày làm việc không bao gồm cả cuối tuần và ngày lễ  <br> \n",
    "1: ngày làm việc  \n",
    "0: ngày không làm việc \n",
    "weather: Cho biết thời tiết  <br>\n",
    "1: Trời trong, có mây, có mây rải rác  <br>\n",
    "2: Sương mù + Đầy mây, sương mù + ít mây, sương mù  <br>\n",
    "3: Tuyết nhẹ, mưa nhẹ + sấm sét + mây rải rác, mưa nhẹ + mây rải rác  <br>\n",
    "4: Mưa lớn + mảnh băng + sấm sét + sương mù, tuyết + sương mù  <br>\n",
    "temp: Nhiệt độ thực tế tính theo độ Celsius (độ C)  <br>\n",
    "atemp: Nhiệt độ mà con người cảm thấy tính theo độ Celsius (độ C) <br>\n",
    "humidity: Độ ẩm tương đối <br>\n",
    "windspeed: Tốc độ gió <br>\n",
    "casual: Số lượng xe thuê mà không có đăng ký dịch vụ <br>\n",
    "registered: Số lượng xe thuê mà có đăng ký dịch vụ <br>\n",
    "count: Tổng số lượng xe được thuê <br>"
   ]
  },
  {
   "cell_type": "markdown",
   "metadata": {},
   "source": [
    "Xử lý Data"
   ]
  },
  {
   "cell_type": "code",
   "execution_count": null,
   "metadata": {},
   "outputs": [],
   "source": [
    "# tạo cột year, month, day, hour,weekday từ cột datetime\n",
    "dt[\"datetime\"] = pd.to_datetime(dt[\"datetime\"])\n",
    "dt[\"year\"] = dt[\"datetime\"].dt.year\n",
    "dt[\"month\"] = dt[\"datetime\"].dt.month\n",
    "dt[\"weekday\"] = dt[\"datetime\"].dt.weekday\n",
    "dt[\"hour\"] = dt[\"datetime\"].dt.hour\n",
    "print(\" Hiển thị 5 dòng đầu của tập data\\n\",  dt.head())\n",
    "print(\" Xem kiểu dữ liệu của từng thuộc tính\",  dt.dtypes)\n",
    "print(\" Xem thông tin của dữ liệu\",  dt.info())\n",
    "print(\" Kiểm tra giá trị thiếu\", dt.isnull().sum())"
   ]
  },
  {
   "cell_type": "markdown",
   "metadata": {},
   "source": [
    "Chú thích các thuộc tính mới  <br>\n",
    "month: tháng (1-12)  <br>\n",
    "year: năm (2011, 2012)  <br>\n",
    "hour: giờ trong ngày (0-23 giờ)  <br>\n",
    "weekday: ngày trong tuần  <br> \n",
    "0: thứ 2  <br>\n",
    "1: thứ 3  <br>\n",
    "2: thứ 4  <br>\n",
    "3: thứ 5  <br>\n",
    "4: thứ 6  <br>\n",
    "5: thứ 7  <br>\n",
    "6: chủ nhật  <br>"
   ]
  },
  {
   "cell_type": "markdown",
   "metadata": {},
   "source": [
    "Chia Dữ tập dữ liệu theo Hold-Out <br>\n",
    "Test = 1/3 , train = 2/3  <br>"
   ]
  },
  {
   "cell_type": "code",
   "execution_count": null,
   "metadata": {},
   "outputs": [],
   "source": [
    "# Chia dữ liệu thành X và y\n",
    "X = dt.drop(columns=[\"casual\", \"registered\", \"count\", \"datetime\"])\n",
    "print(X)\n",
    "y = dt[\"count\"] \n",
    "print(y)\n",
    "# Chia dữ liệu thành tập huấn luyện và tập kiểm tra\n",
    "X_train, X_test, y_train, y_test = train_test_split(\n",
    "    X, y, test_size=1 / 3, random_state=42\n",
    ")\n",
    "print(X_train)\n",
    "print(X_test)"
   ]
  },
  {
   "cell_type": "markdown",
   "metadata": {},
   "source": [
    "Xây dụng mô hình bằng phương pháp tổng hợp mô hình (Bagging Average) <br>\n",
    "Với mô hình cơ sở là DecisionTreeRegressor (cây hồi quy)  <br>"
   ]
  },
  {
   "cell_type": "code",
   "execution_count": null,
   "metadata": {},
   "outputs": [],
   "source": [
    "tree = DecisionTreeRegressor()\n",
    "# Tạo 1 tập hợp gồm 10 mô hình cây hồi quy\n",
    "baggingTree = BaggingRegressor(estimator=tree, n_estimators=10, random_state=42)\n",
    "# huấn luyện mô hình \n",
    "baggingTree.fit(X_train, y_train)\n",
    "# Dự đoán kết quả\n",
    "y_pred = baggingTree.predict(X_test)\n",
    "# Đánh giá mô hình\n",
    "err_DT = mean_squared_error(y_test, y_pred)\n",
    "print(\"DecisionTreeRegressor MSE =\", str(err_DT))\n",
    "rmse_err_DT = math.sqrt(err_DT)\n",
    "print(\"DecisionTreeRegressor RMSE =\" + str(round(rmse_err_DT, 3)))"
   ]
  },
  {
   "cell_type": "markdown",
   "metadata": {},
   "source": [
    "Huấn luyện mô hình"
   ]
  },
  {
   "cell_type": "markdown",
   "metadata": {},
   "source": [
    "Xây dụng mô hình bằng phương pháp tổng hợp mô hình (Bagging Average)\n",
    "Với mô hình cơ sở là LinearRegression (Hồi quy tuyến tính) "
   ]
  },
  {
   "cell_type": "code",
   "execution_count": null,
   "metadata": {},
   "outputs": [],
   "source": [
    "lm = linear_model.LinearRegression()\n",
    "# Tạo 1 tập hợp gồm 10 mô hình hồi quy tuyến tính\n",
    "baggingLM = BaggingRegressor(estimator=lm, n_estimators=10, random_state=42)\n",
    "# huấn luyện mô hình\n",
    "baggingLM.fit(X_train, y_train)\n",
    "# dụ đoán kết quả\n",
    "y_pred = baggingLM.predict(X_test)\n",
    "# đánh giá mô hình \n",
    "err_LM = mean_squared_error(y_test, y_pred)\n",
    "print(\"LinearRegression MSE =\", str(err_LM))\n",
    "rmse_err_LM = math.sqrt(err_LM)\n",
    "print(\"LinearRegression RMSE =\" + str(round(rmse_err_LM, 3)))"
   ]
  },
  {
   "cell_type": "markdown",
   "metadata": {},
   "source": [
    "Đánh giá từng mô hình"
   ]
  },
  {
   "cell_type": "code",
   "execution_count": null,
   "metadata": {},
   "outputs": [],
   "source": [
    "# Tạo mô hình cây hồi quy\n",
    "treeRegressor = DecisionTreeRegressor()\n",
    "treeRegressor.fit(X_train, y_train)\n",
    "# Dự đoán kết quả\n",
    "y_pred_tree = treeRegressor.predict(X_test)\n",
    "# đánh giá mô hình\n",
    "err_tree = mean_squared_error(y_test, y_pred_tree)\n",
    "print(\"MSE of tree = \" + str(err_tree))\n",
    "rmse_err_tree = math.sqrt(err_tree)\n",
    "print(\"RMSE of tree = \" + str(round(rmse_err_tree, 3)))"
   ]
  },
  {
   "cell_type": "code",
   "execution_count": null,
   "metadata": {},
   "outputs": [],
   "source": [
    "# Tạo mô hình hồi quy tuyến tính\n",
    "LmRegressor = LinearRegression()\n",
    "LmRegressor.fit(X_train, y_train)\n",
    "# Dự đoán kết quả\n",
    "y_pred_lm = LmRegressor.predict(X_test)\n",
    "# Đánh giả mô hình\n",
    "err_lm = mean_squared_error(y_test, y_pred_lm)\n",
    "print(\"MSE of lm = \" + str(err_lm))\n",
    "rmse_err_lm = math.sqrt(err_lm)\n",
    "print(\"RMSE of lm = \" + str(round(rmse_err_lm, 3)))"
   ]
  },
  {
   "cell_type": "code",
   "execution_count": null,
   "metadata": {},
   "outputs": [],
   "source": [
    "# Tạo mô hình KNN\n",
    "knnRegressor = KNeighborsRegressor(n_neighbors=10)\n",
    "knnRegressor.fit(X_train, y_train)\n",
    "# Dự đoán kết quả\n",
    "y_pred_knn = knnRegressor.predict(X_test)\n",
    "# Đánh Giá mô hình\n",
    "err_knn = mean_squared_error(y_test, y_pred_knn)\n",
    "print(\"MSE of KNN = \" + str(err_knn))\n",
    "rmse_err_knn = math.sqrt(err_knn)\n",
    "print(\"RMSE of KNN = \" + str(round(rmse_err_knn, 3)))\n"
   ]
  },
  {
   "cell_type": "markdown",
   "metadata": {},
   "source": [
    "Kết hợp 3 mô hình "
   ]
  },
  {
   "cell_type": "code",
   "execution_count": null,
   "metadata": {},
   "outputs": [],
   "source": [
    "# Kết hợp mô hình với VotingRegressor\n",
    "voting_reg = VotingRegressor(\n",
    "    estimators=[\n",
    "        (\"tree_reg\", treeRegressor),\n",
    "        (\"Lm_reg\", LmRegressor),\n",
    "        (\"knn_reg\", knnRegressor),\n",
    "    ]\n",
    ")\n",
    "voting_reg.fit(X_train, y_train)\n",
    "# Dự Đoán kết quả\n",
    "y_pred_ensemble = voting_reg.predict(X_test)\n",
    "# Đánh giá mô hình\n",
    "err_ensemble = mean_squared_error(y_test, y_pred_ensemble)\n",
    "print(\"MSE of Ensemble = \" + str(err_ensemble))\n",
    "rmse_err_ensemble = math.sqrt(err_ensemble)\n",
    "print(\"RMSE of Ensemble = \" + str(round(rmse_err_ensemble, 3)))"
   ]
  },
  {
   "cell_type": "markdown",
   "metadata": {},
   "source": [
    "Chia tập dữ liệu theo Kfold"
   ]
  },
  {
   "cell_type": "markdown",
   "metadata": {},
   "source": [
    "Load Data"
   ]
  },
  {
   "cell_type": "code",
   "execution_count": null,
   "metadata": {},
   "outputs": [],
   "source": [
    "# Load dữ liệu từ file CSV\n",
    "dt = pd.read_csv(\"./BikeSharingDemand.csv\")\n",
    "print(dt)\n",
    "print(dt.dtypes)\n",
    "print(dt.info)"
   ]
  },
  {
   "cell_type": "markdown",
   "metadata": {},
   "source": [
    "Xử lý data"
   ]
  },
  {
   "cell_type": "code",
   "execution_count": 13,
   "metadata": {},
   "outputs": [
    {
     "name": "stdout",
     "output_type": "stream",
     "text": [
      "                 datetime  season  holiday  workingday  weather   temp  \\\n",
      "0     2011-01-01 00:00:00       1        0           0        1   9.84   \n",
      "1     2011-01-01 01:00:00       1        0           0        1   9.02   \n",
      "2     2011-01-01 02:00:00       1        0           0        1   9.02   \n",
      "3     2011-01-01 03:00:00       1        0           0        1   9.84   \n",
      "4     2011-01-01 04:00:00       1        0           0        1   9.84   \n",
      "...                   ...     ...      ...         ...      ...    ...   \n",
      "10881 2012-12-19 19:00:00       4        0           1        1  15.58   \n",
      "10882 2012-12-19 20:00:00       4        0           1        1  14.76   \n",
      "10883 2012-12-19 21:00:00       4        0           1        1  13.94   \n",
      "10884 2012-12-19 22:00:00       4        0           1        1  13.94   \n",
      "10885 2012-12-19 23:00:00       4        0           1        1  13.12   \n",
      "\n",
      "        atemp  humidity  windspeed  casual  registered  count  year  month  \\\n",
      "0      14.395        81     0.0000       3          13     16  2011      1   \n",
      "1      13.635        80     0.0000       8          32     40  2011      1   \n",
      "2      13.635        80     0.0000       5          27     32  2011      1   \n",
      "3      14.395        75     0.0000       3          10     13  2011      1   \n",
      "4      14.395        75     0.0000       0           1      1  2011      1   \n",
      "...       ...       ...        ...     ...         ...    ...   ...    ...   \n",
      "10881  19.695        50    26.0027       7         329    336  2012     12   \n",
      "10882  17.425        57    15.0013      10         231    241  2012     12   \n",
      "10883  15.910        61    15.0013       4         164    168  2012     12   \n",
      "10884  17.425        61     6.0032      12         117    129  2012     12   \n",
      "10885  16.665        66     8.9981       4          84     88  2012     12   \n",
      "\n",
      "       weekday  hour  \n",
      "0            5     0  \n",
      "1            5     1  \n",
      "2            5     2  \n",
      "3            5     3  \n",
      "4            5     4  \n",
      "...        ...   ...  \n",
      "10881        2    19  \n",
      "10882        2    20  \n",
      "10883        2    21  \n",
      "10884        2    22  \n",
      "10885        2    23  \n",
      "\n",
      "[10886 rows x 16 columns]\n",
      "datetime      datetime64[ns]\n",
      "season                 int64\n",
      "holiday                int64\n",
      "workingday             int64\n",
      "weather                int64\n",
      "temp                 float64\n",
      "atemp                float64\n",
      "humidity               int64\n",
      "windspeed            float64\n",
      "casual                 int64\n",
      "registered             int64\n",
      "count                  int64\n",
      "year                   int32\n",
      "month                  int32\n",
      "weekday                int32\n",
      "hour                   int32\n",
      "dtype: object\n",
      "<bound method DataFrame.info of                  datetime  season  holiday  workingday  weather   temp  \\\n",
      "0     2011-01-01 00:00:00       1        0           0        1   9.84   \n",
      "1     2011-01-01 01:00:00       1        0           0        1   9.02   \n",
      "2     2011-01-01 02:00:00       1        0           0        1   9.02   \n",
      "3     2011-01-01 03:00:00       1        0           0        1   9.84   \n",
      "4     2011-01-01 04:00:00       1        0           0        1   9.84   \n",
      "...                   ...     ...      ...         ...      ...    ...   \n",
      "10881 2012-12-19 19:00:00       4        0           1        1  15.58   \n",
      "10882 2012-12-19 20:00:00       4        0           1        1  14.76   \n",
      "10883 2012-12-19 21:00:00       4        0           1        1  13.94   \n",
      "10884 2012-12-19 22:00:00       4        0           1        1  13.94   \n",
      "10885 2012-12-19 23:00:00       4        0           1        1  13.12   \n",
      "\n",
      "        atemp  humidity  windspeed  casual  registered  count  year  month  \\\n",
      "0      14.395        81     0.0000       3          13     16  2011      1   \n",
      "1      13.635        80     0.0000       8          32     40  2011      1   \n",
      "2      13.635        80     0.0000       5          27     32  2011      1   \n",
      "3      14.395        75     0.0000       3          10     13  2011      1   \n",
      "4      14.395        75     0.0000       0           1      1  2011      1   \n",
      "...       ...       ...        ...     ...         ...    ...   ...    ...   \n",
      "10881  19.695        50    26.0027       7         329    336  2012     12   \n",
      "10882  17.425        57    15.0013      10         231    241  2012     12   \n",
      "10883  15.910        61    15.0013       4         164    168  2012     12   \n",
      "10884  17.425        61     6.0032      12         117    129  2012     12   \n",
      "10885  16.665        66     8.9981       4          84     88  2012     12   \n",
      "\n",
      "       weekday  hour  \n",
      "0            5     0  \n",
      "1            5     1  \n",
      "2            5     2  \n",
      "3            5     3  \n",
      "4            5     4  \n",
      "...        ...   ...  \n",
      "10881        2    19  \n",
      "10882        2    20  \n",
      "10883        2    21  \n",
      "10884        2    22  \n",
      "10885        2    23  \n",
      "\n",
      "[10886 rows x 16 columns]>\n",
      "                            datetime        season       holiday  \\\n",
      "count                          10886  10886.000000  10886.000000   \n",
      "mean   2011-12-27 05:56:22.399411968      2.506614      0.028569   \n",
      "min              2011-01-01 00:00:00      1.000000      0.000000   \n",
      "25%              2011-07-02 07:15:00      2.000000      0.000000   \n",
      "50%              2012-01-01 20:30:00      3.000000      0.000000   \n",
      "75%              2012-07-01 12:45:00      4.000000      0.000000   \n",
      "max              2012-12-19 23:00:00      4.000000      1.000000   \n",
      "std                              NaN      1.116174      0.166599   \n",
      "\n",
      "         workingday       weather         temp         atemp      humidity  \\\n",
      "count  10886.000000  10886.000000  10886.00000  10886.000000  10886.000000   \n",
      "mean       0.680875      1.418427     20.23086     23.655084     61.886460   \n",
      "min        0.000000      1.000000      0.82000      0.760000      0.000000   \n",
      "25%        0.000000      1.000000     13.94000     16.665000     47.000000   \n",
      "50%        1.000000      1.000000     20.50000     24.240000     62.000000   \n",
      "75%        1.000000      2.000000     26.24000     31.060000     77.000000   \n",
      "max        1.000000      4.000000     41.00000     45.455000    100.000000   \n",
      "std        0.466159      0.633839      7.79159      8.474601     19.245033   \n",
      "\n",
      "          windspeed        casual    registered         count          year  \\\n",
      "count  10886.000000  10886.000000  10886.000000  10886.000000  10886.000000   \n",
      "mean      12.799395     36.021955    155.552177    191.574132   2011.501929   \n",
      "min        0.000000      0.000000      0.000000      1.000000   2011.000000   \n",
      "25%        7.001500      4.000000     36.000000     42.000000   2011.000000   \n",
      "50%       12.998000     17.000000    118.000000    145.000000   2012.000000   \n",
      "75%       16.997900     49.000000    222.000000    284.000000   2012.000000   \n",
      "max       56.996900    367.000000    886.000000    977.000000   2012.000000   \n",
      "std        8.164537     49.960477    151.039033    181.144454      0.500019   \n",
      "\n",
      "              month       weekday          hour  \n",
      "count  10886.000000  10886.000000  10886.000000  \n",
      "mean       6.521495      3.013963     11.541613  \n",
      "min        1.000000      0.000000      0.000000  \n",
      "25%        4.000000      1.000000      6.000000  \n",
      "50%        7.000000      3.000000     12.000000  \n",
      "75%       10.000000      5.000000     18.000000  \n",
      "max       12.000000      6.000000     23.000000  \n",
      "std        3.444373      2.004585      6.915838  \n"
     ]
    }
   ],
   "source": [
    "# tạo cột year, month, day, hour,weekday từ cột datetime\n",
    "dt[\"datetime\"] = pd.to_datetime(dt[\"datetime\"])\n",
    "dt[\"year\"] = dt[\"datetime\"].dt.year\n",
    "dt[\"month\"] = dt[\"datetime\"].dt.month\n",
    "dt[\"weekday\"] = dt[\"datetime\"].dt.weekday\n",
    "dt[\"hour\"] = dt[\"datetime\"].dt.hour\n",
    "print(dt)\n",
    "print(dt.dtypes)\n",
    "print(dt.info)\n",
    "print(dt.describe())"
   ]
  },
  {
   "cell_type": "markdown",
   "metadata": {},
   "source": [
    "Chia tập dữ liệu theo kfold "
   ]
  },
  {
   "cell_type": "code",
   "execution_count": 14,
   "metadata": {},
   "outputs": [
    {
     "name": "stdout",
     "output_type": "stream",
     "text": [
      "       season  holiday  workingday  weather   temp   atemp  humidity  \\\n",
      "0           1        0           0        1   9.84  14.395        81   \n",
      "1           1        0           0        1   9.02  13.635        80   \n",
      "2           1        0           0        1   9.02  13.635        80   \n",
      "3           1        0           0        1   9.84  14.395        75   \n",
      "4           1        0           0        1   9.84  14.395        75   \n",
      "...       ...      ...         ...      ...    ...     ...       ...   \n",
      "10881       4        0           1        1  15.58  19.695        50   \n",
      "10882       4        0           1        1  14.76  17.425        57   \n",
      "10883       4        0           1        1  13.94  15.910        61   \n",
      "10884       4        0           1        1  13.94  17.425        61   \n",
      "10885       4        0           1        1  13.12  16.665        66   \n",
      "\n",
      "       windspeed  year  month  weekday  hour  \n",
      "0         0.0000  2011      1        5     0  \n",
      "1         0.0000  2011      1        5     1  \n",
      "2         0.0000  2011      1        5     2  \n",
      "3         0.0000  2011      1        5     3  \n",
      "4         0.0000  2011      1        5     4  \n",
      "...          ...   ...    ...      ...   ...  \n",
      "10881    26.0027  2012     12        2    19  \n",
      "10882    15.0013  2012     12        2    20  \n",
      "10883    15.0013  2012     12        2    21  \n",
      "10884     6.0032  2012     12        2    22  \n",
      "10885     8.9981  2012     12        2    23  \n",
      "\n",
      "[10886 rows x 12 columns]\n",
      "0         16\n",
      "1         40\n",
      "2         32\n",
      "3         13\n",
      "4          1\n",
      "        ... \n",
      "10881    336\n",
      "10882    241\n",
      "10883    168\n",
      "10884    129\n",
      "10885     88\n",
      "Name: count, Length: 10886, dtype: int64\n"
     ]
    }
   ],
   "source": [
    "# Chia dữ liệu thành X và y\n",
    "X = dt.drop(columns=[\"casual\", \"registered\", \"count\", \"datetime\"])\n",
    "print(X)\n",
    "y = dt[\"count\"] \n",
    "print(y)\n",
    "# Số lượng fold\n",
    "n_splits = 50\n",
    "\n",
    "# Khởi tạo KFold\n",
    "kf = KFold(n_splits=n_splits, shuffle=True, random_state=42)"
   ]
  },
  {
   "cell_type": "markdown",
   "metadata": {},
   "source": [
    "Xây dựng mô hình cây hồi quy"
   ]
  },
  {
   "cell_type": "code",
   "execution_count": 15,
   "metadata": {},
   "outputs": [
    {
     "name": "stdout",
     "output_type": "stream",
     "text": [
      "DecisionTree RegressorAverage MSE = 1709.698860820445\n",
      "DecisionTree Regressor Average RMSE = 40.961000641050894\n"
     ]
    }
   ],
   "source": [
    "\n",
    "\n",
    "# Danh sách để lưu trữ MSE và RMSE cho từng mô hình\n",
    "mse_results = []\n",
    "rmse_results = []\n",
    "\n",
    "# Lặp qua các fold\n",
    "for train_index, test_index in kf.split(X):\n",
    "    X_train, X_test = X.iloc[train_index], X.iloc[test_index]\n",
    "    y_train, y_test = y.iloc[train_index], y.iloc[test_index]\n",
    "\n",
    "    ## Bagging\n",
    "    # Mô hình cơ sở là Decision Tree\n",
    "    tree = DecisionTreeRegressor()\n",
    "    # Tạo mô hình Bagging với 10 mô hình cơ sở\n",
    "    baggingTree = BaggingRegressor(estimator=tree, n_estimators=10, random_state=42)\n",
    "    # Huấn luyện mô hình\n",
    "    baggingTree.fit(X_train, y_train)\n",
    "    # Dự đoán kết quả\n",
    "    y_pred = baggingTree.predict(X_test)\n",
    "    # Đánh giá mô hình\n",
    "    mse = mean_squared_error(y_test, y_pred)\n",
    "    rmse = math.sqrt(mse)\n",
    "    mse_results.append(mse)\n",
    "    rmse_results.append(rmse)\n",
    "\n",
    "# Tính trung bình của MSE và RMSE từ các fold\n",
    "avg_mse = sum(mse_results) / len(mse_results)\n",
    "avg_rmse = sum(rmse_results) / len(rmse_results)\n",
    "\n",
    "# In ra kết quả trung bình của MSE và RMSE\n",
    "print(\"DecisionTree RegressorAverage MSE =\", avg_mse)\n",
    "print(\"DecisionTree Regressor Average RMSE =\", avg_rmse)\n"
   ]
  },
  {
   "cell_type": "markdown",
   "metadata": {},
   "source": [
    "Chia tập dữ liệu theo kfold và huấn luyện mô hình với hồi quy tuyến tính"
   ]
  },
  {
   "cell_type": "code",
   "execution_count": 17,
   "metadata": {},
   "outputs": [
    {
     "name": "stdout",
     "output_type": "stream",
     "text": [
      "LinearRegressionAverage MSE = 20077.295855819408\n",
      "LinearRegression Average RMSE = 141.45659600081123\n"
     ]
    }
   ],
   "source": [
    "\n",
    "# Danh sách để lưu trữ MSE và RMSE cho từng mô hình\n",
    "mse_results = []\n",
    "rmse_results = []\n",
    "\n",
    "# Lặp qua các fold\n",
    "for train_index, test_index in kf.split(X):\n",
    "    X_train, X_test = X.iloc[train_index], X.iloc[test_index]\n",
    "    y_train, y_test = y.iloc[train_index], y.iloc[test_index]\n",
    "\n",
    "    ## Bagging\n",
    "    # Mô hình cơ sở là Decision Tree\n",
    "    tree = LinearRegression()\n",
    "    # Tạo mô hình Bagging với 10 mô hình cơ sở\n",
    "    baggingTree = BaggingRegressor(estimator=tree, n_estimators=10, random_state=42)\n",
    "    # Huấn luyện mô hình\n",
    "    baggingTree.fit(X_train, y_train)\n",
    "    # Dự đoán kết quả\n",
    "    y_pred = baggingTree.predict(X_test)\n",
    "    # Đánh giá mô hình\n",
    "    mse = mean_squared_error(y_test, y_pred)\n",
    "    rmse = math.sqrt(mse)\n",
    "    mse_results.append(mse)\n",
    "    rmse_results.append(rmse)\n",
    "\n",
    "# Tính trung bình của MSE và RMSE từ các fold\n",
    "avg_mse = sum(mse_results) / len(mse_results)\n",
    "avg_rmse = sum(rmse_results) / len(rmse_results)\n",
    "\n",
    "# In ra kết quả trung bình của MSE và RMSE\n",
    "print(\"LinearRegressionAverage MSE =\", avg_mse)\n",
    "print(\"LinearRegression Average RMSE =\", avg_rmse)\n"
   ]
  },
  {
   "cell_type": "markdown",
   "metadata": {},
   "source": [
    "Chia tập dữ liệu theo kfold và huấn luyện mô hình với KNN"
   ]
  },
  {
   "cell_type": "code",
   "execution_count": 18,
   "metadata": {},
   "outputs": [
    {
     "name": "stdout",
     "output_type": "stream",
     "text": [
      "KNeighborsRegressor MSE = 12712.776250027651\n",
      "KNeighborsRegressor Average RMSE = 112.36396651137751\n"
     ]
    }
   ],
   "source": [
    "\n",
    "# Danh sách để lưu trữ MSE và RMSE cho từng mô hình\n",
    "mse_results = []\n",
    "rmse_results = []\n",
    "\n",
    "# Lặp qua các fold\n",
    "for train_index, test_index in kf.split(X):\n",
    "    X_train, X_test = X.iloc[train_index], X.iloc[test_index]\n",
    "    y_train, y_test = y.iloc[train_index], y.iloc[test_index]\n",
    "\n",
    "    ## Bagging\n",
    "    # Mô hình cơ sở là Decision Tree\n",
    "    tree = KNeighborsRegressor()\n",
    "    # Tạo mô hình Bagging với 10 mô hình cơ sở\n",
    "    baggingTree = BaggingRegressor(estimator=tree, n_estimators=10, random_state=42)\n",
    "    # Huấn luyện mô hình\n",
    "    baggingTree.fit(X_train, y_train)\n",
    "    # Dự đoán kết quả\n",
    "    y_pred = baggingTree.predict(X_test)\n",
    "    # Đánh giá mô hình\n",
    "    mse = mean_squared_error(y_test, y_pred)\n",
    "    rmse = math.sqrt(mse)\n",
    "    mse_results.append(mse)\n",
    "    rmse_results.append(rmse)\n",
    "\n",
    "# Tính trung bình của MSE và RMSE từ các fold\n",
    "avg_mse = sum(mse_results) / len(mse_results)\n",
    "avg_rmse = sum(rmse_results) / len(rmse_results)\n",
    "\n",
    "# In ra kết quả trung bình của MSE và RMSE\n",
    "print(\"KNeighborsRegressor MSE =\", avg_mse)\n",
    "print(\"KNeighborsRegressor Average RMSE =\", avg_rmse)\n"
   ]
  }
 ],
 "metadata": {
  "kernelspec": {
   "display_name": "Python 3",
   "language": "python",
   "name": "python3"
  },
  "language_info": {
   "codemirror_mode": {
    "name": "ipython",
    "version": 3
   },
   "file_extension": ".py",
   "mimetype": "text/x-python",
   "name": "python",
   "nbconvert_exporter": "python",
   "pygments_lexer": "ipython3",
   "version": "3.12.2"
  }
 },
 "nbformat": 4,
 "nbformat_minor": 2
}
